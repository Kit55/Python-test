{
 "metadata": {
  "name": "6.3"
 },
 "nbformat": 3,
 "nbformat_minor": 0,
 "worksheets": [
  {
   "cells": [
    {
     "cell_type": "raw",
     "metadata": {},
     "source": "\u041f\u0443\u043d\u043a\u0442 2 \u0441 \u0443\u0441\u043b\u043e\u0436\u043d\u0435\u043d\u0438\u0435\u043c: \u043d\u0430\u043f\u0438\u0441\u0430\u0442\u044c \u0440\u043e\u0434\u0438\u0442\u0435\u043b\u044c\u0441\u043a\u0438\u0439 \u043a\u043b\u0430\u0441\u0441 XDictAttr \u0442\u0430\u043a, \u0447\u0442\u043e\u0431\u044b \u0443 \u043d\u0430\u0441\u043b\u0435\u0434\u043d\u0438\u043a\u0430 \u0434\u0438\u043d\u0430\u043c\u0438\u0447\u0435\u0441\u043a\u0438 \u043e\u043f\u0440\u0435\u0434\u0435\u043b\u044f\u043b\u0441\u044f \u043a\u043b\u044e\u0447 \u043f\u043e \u043d\u0430\u043b\u0438\u0447\u0438\u044e \u043c\u0435\u0442\u043e\u0434\u0430 get_<KEY>.\n\n>>> class X(XDictAttr):\n...     def get_foo(self):\n...         return 5\n...     def get_bar(self):\n...         return 12\n\n\n>>> x = X({'one': 1, 'two': 2, 'three': 3})\n>>> x\nX: { 'one': 1, 'three': 3, 'two': 2}\n>>> x['one']\n1\n>>> x.three\n3\n>>> x.bar\n12\n>>> x['foo']\n5\n>>> x.get('foo', 'missing')\n5\n>>> x.get('bzz', 'missing')\n'missing'"
    },
    {
     "cell_type": "code",
     "collapsed": false,
     "input": "class XDictAttr(dict):\n\t\"\"\"\n\t>>> x=X({'one':1,'two':2,'three':3})\n\t>>> print (x['three'])\n\t3\n\t>>> print (x.get('one'))\n\t1\n\t>>> print (x.get('five', 'error'))\n\terror\n\t>>> print (x.one)\n\t1\n\t>>> print (x['return5'])\n\t5\n\t>>> print (x.return9)\n\t9\n\t>>> print (x.get('return15', 'error'))\n\terror\n\t\"\"\"\n\tdef __getattr__(self, _attr):\n\n\t\tfor attr in dir(self):#\u0438\u0449\u0435\u043c \u043c\u0435\u0442\u043e\u0434\u044b \u043a\u043e\u0442\u043e\u0440\u044b\u0435 \u043d\u0430\u0447\u0438\u043d\u0430\u044e\u0442\u0441\u044f \u0441 get_ \u0438 \u0441\u043e\u0445\u0440\u0430\u043d\u044f\u0435\u043c \u0438\u0445 \u043a\u0430\u043a \u0441\u043b\u043e\u0432\u0430\u0440\u044c\n\t\t\tif callable(getattr(self,attr))and attr.startswith( 'get_' ):\n\t\t\t\tself.update({attr[4:]:getattr(self,attr)()})\n\t\t\t\t\n\t\ttry:\n\t\t\treturn self[_attr]\n\t\texcept:\n\t\t\treturn (\"Error\")\n\nclass X(XDictAttr):\n\tdef get_return5(self):\n\t\treturn 5\n\n\tdef get_return12 (self):\n\t\treturn 12\n\n\tdef get_return9(self):\n\t\treturn 9\n\t\nx=X({'one':1,'two':2,'three':3})\nprint (x['three'])\nprint (x.get('one'))\nprint (x.get('five', 'error'))\nprint (x.one)\nprint (x['return5'])\nprint (x.return9)\nprint (x.get('return15', 'error'))\n\nif __name__ == \"__main__\":\n    import doctest\n    doctest.testmod()",
     "language": "python",
     "metadata": {},
     "outputs": [],
     "prompt_number": "*"
    }
   ],
   "metadata": {}
  }
 ]
}