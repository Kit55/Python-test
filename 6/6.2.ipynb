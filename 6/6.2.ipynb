{
 "metadata": {
  "name": "6.2"
 },
 "nbformat": 3,
 "nbformat_minor": 0,
 "worksheets": [
  {
   "cells": [
    {
     "cell_type": "raw",
     "metadata": {},
     "source": "\u041d\u0430\u043f\u0438\u0441\u0430\u0442\u044c \u043a\u043b\u0430\u0441\u0441, \u043a\u043e\u0442\u043e\u0440\u044b\u0439 \u0431\u044b \u043f\u043e \u0432\u0441\u0435\u043c \u0432\u043d\u0435\u0448\u043d\u0438\u043c \u043f\u0440\u0438\u0437\u043d\u0430\u043a\u0430\u043c \u0431\u044b\u043b \u0431\u044b \u0441\u043b\u043e\u0432\u0430\u0440\u0435\u043c, \u043d\u043e \u043f\u043e\u0437\u0432\u043e\u043b\u044f\u043b \u043e\u0431\u0440\u0430\u0449\u0430\u0442\u044c\u0441\u044f \u043a \u043a\u043b\u044e\u0447\u0430\u043c \u043a\u0430\u043a \u043a \u0430\u0442\u0440\u0438\u0431\u0443\u0442\u0430\u043c.\n\n>>> x = DictAttr([('one', 1), ('two', 2), ('three', 3)])\n>>> x\n{ 'one': 1, 'three': 3, 'two': 2}\n>>> x['three']\n3\n>>> x.get('one')\n1\n>>> x.get('five', 'missing')\n'missing'\n>>> x.one\n1\n>>> x.five\nTraceback (most recent call last):\n  ...\nAttributeError"
    },
    {
     "cell_type": "code",
     "collapsed": false,
     "input": "class DictAttr(dict):#\u043d\u0430\u0441\u043b\u0435\u0434\u0443\u0435\u043c \u043e\u0442 \u0441\u043b\u043e\u0432\u0430\u0440\u044f\n\t\"\"\"\n\tx=DictAttr({'one':1,'two':2,'three':3})\n\t>>> print (x['three'])\n\t3\n\t>>> print (x.get('one'))\n\t1\n\t>>> print (x.get('five', 'missing'))\n\tmissing\n\t>>> print (x.one)\n\t1\n\t>>> print (x.five)\n\tError\n\t\"\"\"\n\tdef __getattr__(self, _attr):#\u0432\u044b\u043f\u043e\u043b\u043d\u044f\u0435\u0442\u0441\u044f \u043a\u043e\u0433\u0434\u0430 \u043c\u044b \u043f\u0430\u0442\u0430\u0435\u043c\u0441\u044f \u043e\u0431\u0440\u0430\u0442\u0438\u0442\u044c\u0441\u044f \u043a \u0430\u0442\u0440\u0438\u0431\u0443\u0442\u0443\n\t\ttry:\n\t\t\treturn self[_attr]\n\t\texcept:\n\t\t\treturn (\"Error\")\n\nx=DictAttr({'one':1,'two':2,'three':3})\nprint (x['three'])\nprint (x.get('one'))\nprint (x.get('five', 'missing'))\nprint (x.one)\nprint (x.five)\n\nif __name__ == \"__main__\":\n    import doctest\n    doctest.testmod()\n",
     "language": "python",
     "metadata": {},
     "outputs": [
      {
       "output_type": "stream",
       "stream": "stdout",
       "text": "3\n1\nmissing\n1\nError\n"
      }
     ],
     "prompt_number": 1
    }
   ],
   "metadata": {}
  }
 ]
}