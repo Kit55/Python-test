{
 "metadata": {
  "name": "6.4"
 },
 "nbformat": 3,
 "nbformat_minor": 0,
 "worksheets": [
  {
   "cells": [
    {
     "cell_type": "raw",
     "metadata": {},
     "source": "\u041d\u0430\u043f\u0438\u0441\u0430\u0442\u044c \u043a\u043b\u0430\u0441\u0441, \u043a\u043e\u0442\u043e\u0440\u044b\u0439 \u0440\u0435\u0433\u0438\u0441\u0442\u0440\u0438\u0440\u0443\u0435\u0442 \u0441\u0432\u043e\u0438 \u044d\u043a\u0437\u0435\u043c\u043f\u043b\u044f\u0440\u044b \u0438 \u043f\u0440\u0435\u0434\u043e\u0441\u0442\u0430\u0432\u043b\u044f\u0435\u0442 \u0438\u043d\u0442\u0435\u0440\u0444\u0435\u0439\u0441 \u0438\u0442\u0435\u0440\u0430\u0442\u043e\u0440\u0430 \u043f\u043e \u043d\u0438\u043c\n\n>>> x = Reg()\n>>> x\n<Reg instance at 0x98b6ecc>\n>>> y = Reg()\n>>> y\n<Reg instance at 0x98b6fec>\n>>> z = Reg()\n<Reg instance at 0x98ba02c>\n>>> for i in Reg:\n...     print i\n<Reg instance at 0x98b6ecc>\n<Reg instance at 0x98b6fec>\n<Reg instance at 0x98ba02c>"
    },
    {
     "cell_type": "code",
     "collapsed": false,
     "input": "class Reg:\n\n\tex=[]\n\n\tdef __init__(self):\n\t\tself.__class__.ex.append(self)#\u0434\u043e\u0431\u0430\u0432\u043b\u044f\u0435\u043c \u0432 \u0441\u043f\u0438\u0441\u043e\u043a ex\n\n\tdef __iter__(self):# \u043f\u0440\u0438 \u043e\u0431\u0440\u0430\u0449\u0435\u043d\u0438\u0438 \u043a\u0430\u043a \u043a \u0438\u0442\u0435\u0440\u0438\u0440\u0443\u0435\u043c\u043e\u043c\u0443 \u0442\u0438\u043f\u0443\n\t\tprint ('%%%')\n\t\treturn iter(self.__class__.ex)#\u0432\u043e\u0437\u0432\u0440\u0430\u0449\u0430\u0435\u043c \u043b\u0438\u0441\u0442 \u0441 \u043a\u043b\u0430\u0441\u0441\u0430\u043c\u0438\n\n\na=Reg()\nb=Reg()\nc=Reg()\nd=Reg()\n\nfor i in Reg():\n\tprint (i)\n",
     "language": "python",
     "metadata": {},
     "outputs": [
      {
       "output_type": "stream",
       "stream": "stdout",
       "text": "%%%\n<__main__.Reg instance at 0x7f769c9f9128>\n<__main__.Reg instance at 0x7f769c9f9098>\n<__main__.Reg instance at 0x7f769c9f9320>\n<__main__.Reg instance at 0x7f769c9a8f80>\n<__main__.Reg instance at 0x7f769c9a8fc8>\n"
      }
     ],
     "prompt_number": 1
    }
   ],
   "metadata": {}
  }
 ]
}