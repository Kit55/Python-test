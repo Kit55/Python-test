{
 "metadata": {
  "name": "6.1"
 },
 "nbformat": 3,
 "nbformat_minor": 0,
 "worksheets": [
  {
   "cells": [
    {
     "cell_type": "raw",
     "metadata": {},
     "source": "\u041d\u0430\u043f\u0438\u0441\u0430\u0442\u044c \u0431\u0430\u0437\u043e\u0432\u044b\u0439 \u043a\u043b\u0430\u0441\u0441 Observable, \u043a\u043e\u0442\u043e\u0440\u044b\u0439 \u0431\u044b \u043f\u043e\u0437\u0432\u043e\u043b\u044f\u043b \u043d\u0430\u0441\u043b\u0435\u0434\u043d\u0438\u043a\u0430\u043c:\n\n\u043f\u0440\u0438 \u043f\u0435\u0440\u0435\u0434\u0430\u0447\u0435 **kwargs \u0437\u0430\u043d\u043e\u0441\u0438\u0442\u044c \u0441\u043e\u043e\u0442\u0432\u0435\u0442\u0441\u0442\u0432\u0443\u044e\u0449\u0438\u0435 \u0437\u043d\u0430\u0447\u0435\u043d\u0438\u044f \u043a\u0430\u043a \u0430\u0442\u0440\u0438\u0431\u0443\u0442\u044b\n\u0441\u0434\u0435\u043b\u0430\u0442\u044c \u0442\u0430\u043a, \u0447\u0442\u043e\u0431\u044b \u043f\u0440\u0438 print \u043e\u0442\u043e\u0431\u0440\u0430\u0436\u0430\u043b\u0438\u0441\u044c \u0432\u0441\u0435 \u043f\u0443\u0431\u043b\u0438\u0447\u043d\u044b\u0435 \u0430\u0442\u0440\u0438\u0431\u0443\u0442\u044b\n>>> class X(Observable):\n...     pass\n>>> x = X(foo=1, bar=5, _bazz=12, name='Amok', props=('One', 'two'))\n>>> print x\nX(bar=5, foo=1, name='Amok', props=('One', 'two'))\n>>> x.foo\n1\n>>> x.name\n'Amok'\n>>> x._bazz\n12"
    },
    {
     "cell_type": "code",
     "collapsed": false,
     "input": "class Observable():\n    def __init__(self,kwargs):\n        self.__dict__=dict(self.__class__.__dict__,**kwargs)#\u043e\u0431\u043d\u043e\u0432\u043b\u0435\u043d\u0438\u0435 __dict__\n    def __str__(self):#\u043f\u0440\u0438 \u043e\u0431\u0440\u0430\u0449\u0435\u043d\u0438\u0438 \u043a \u044d\u043a\u0437\u0435\u043f\u043b\u044f\u0440\u0443 \u043a\u0430\u043a \u043a \u0441\u0442\u0440\u043e\u043a\u0435\n        s=self.__class__.__name__+('( ')\n        for i in self.__dict__:\n            if not i.startswith('_'):\n                s+=str(i)+'='+str(self.__dict__[i])+' '\n        s+=')'      \n        return s\n\nclass X(Observable): \n    \"\"\"\n    >>> x=X({'foo':1, 'bar':5, '_bazz':12, 'name':'Amok', 'props':('One', 'two')})\n\n    >>> print (x)\n    X( name=Amok foo=1 bar=5 props=('One', 'two') )\n\n    >>> print (x.foo)\n    1\n\n    >>> print (x.name)\n    Amok\n\n    >>> print (x._bazz)\n    12\n    \"\"\"\n    pass\n    \nx=X({'foo':1, 'bar':5, '_bazz':12, 'name':'Amok', 'props':('One', 'two')})#\u0412 Python \u0434\u043b\u044f \u043e\u0431\u043e\u0437\u043d\u0430\u0447\u0435\u043d\u0438\u044f protected \u0430\u0442\u0440\u0438\u0431\u0443\u0442\u043e\u0432 \u0438\u0441\u043f\u043e\u043b\u044c\u0437\u0443\u044e\u0442 \"_\", \u0434\u043b\u044f private \u2014 \"__\" \u043f\u0435\u0440\u0435\u0434 \u043d\u0430\u0437\u0432\u0430\u043d\u0438\u0435\u043c \u043f\u0435\u0440\u0435\u043c\u0435\u043d\u043d\u043e\u0439. \nprint (x)\nprint (x.foo)\nprint (x.name)\nprint (x._bazz)\n\nif __name__ == \"__main__\":\n    import doctest\n    doctest.testmod()",
     "language": "python",
     "metadata": {},
     "outputs": [
      {
       "output_type": "stream",
       "stream": "stdout",
       "text": "X( bar=5 props=('One', 'two') foo=1 name=Amok )\n1\nAmok\n12\n**********************************************************************\nFile \"__main__\", line ?, in __main__.X\nFailed example:\n    print (x)\nExpected:\n    X( name=Amok foo=1 bar=5 props=('One', 'two') )\nGot:\n    X( bar=5 props=('One', 'two') foo=1 name=Amok )\n**********************************************************************\n1 items had failures:\n   1 of   5 in __main__.X\n***Test Failed*** 1 failures.\n"
      }
     ],
     "prompt_number": 2
    },
    {
     "cell_type": "code",
     "collapsed": false,
     "input": "",
     "language": "python",
     "metadata": {},
     "outputs": []
    }
   ],
   "metadata": {}
  }
 ]
}