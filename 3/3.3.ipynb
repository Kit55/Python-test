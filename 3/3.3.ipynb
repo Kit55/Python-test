{
 "metadata": {
  "name": "3.3"
 },
 "nbformat": 3,
 "nbformat_minor": 0,
 "worksheets": [
  {
   "cells": [
    {
     "cell_type": "raw",
     "metadata": {},
     "source": "\u041d\u0430\u043f\u0438\u0441\u0430\u0442\u044c \u0434\u0432\u0430 \u0434\u0435\u043a\u043e\u0440\u0430\u0442\u043e\u0440\u0430:\n\n@accepts(int,float) - \u043f\u0440\u0438\u043d\u0438\u043c\u0430\u0435\u0442 \u043d\u0430\u0431\u043e\u0440 \u0442\u0438\u043f\u043e\u0432 \u0438 \u043f\u0440\u043e\u0432\u0435\u0440\u044f\u0435\u0442, \u0447\u0442\u043e \u0432\u0445\u043e\u0434\u043d\u044b\u0435 \u043f\u0430\u0440\u0430\u043c\u0435\u0442\u0440\u044b \u0434\u0435\u043a\u0430\u0440\u0438\u0440\u0443\u0435\u043c\u043e\u0439 \u0444\u0443\u043d\u043a\u0446\u0438\u0438 \u0441\u043e\u043e\u0442\u0432\u0435\u0442\u0441\u0442\u0432\u0443\u044e\u0442 \u044d\u0442\u0438\u043c \u0442\u0438\u043f\u0430\u043c.\n@returns(int,float) - \u043f\u0440\u0438\u043d\u0438\u043c\u0430\u0435\u0442 \u043d\u0430\u0431\u043e\u0440 \u0442\u0438\u043f\u043e\u0432 \u0438 \u043f\u0440\u043e\u0432\u0435\u0440\u044f\u0435\u0442, \u0447\u0442\u043e \u0440\u0435\u0437\u0443\u043b\u044c\u0442\u0430\u0442 \u0440\u0430\u0431\u043e\u0442\u044b \u0444\u0443\u043d\u043a\u0446\u0438\u0438 \u0441\u043e\u043e\u0442\u0432\u0435\u0442\u0441\u0442\u0432\u0443\u0435\u0442 \u044d\u0442\u0438\u043c \u0442\u0438\u043f\u0430\u043c."
    },
    {
     "cell_type": "raw",
     "metadata": {},
     "source": "def check_in_decor(*_ars):\n\tdef check_in_decor_fn(_fn):\n\t\tdef check_in_decor_ars(*_ars2):\n\t\t\tif (len(_ars)!=len(_ars2)):\n\t\t\t\tprint (\"check_in_decor not ok:(\")\n\t\t\t\treturn (_fn(*_ars2))\n\t\t\tfor i in range (0,len(_ars)):\n\t\t\t\tif _ars[i]!=type(_ars2[i]):\n\t\t\t\t\tprint (\"check_in_decor not ok:(\")\n\t\t\t\t\treturn (_fn(*_ars2))\n\t\t\tprint (\"check_in_decor OK!\")\n\t\t\treturn (_fn(*_ars2))\n\t\treturn check_in_decor_ars\n\treturn check_in_decor_fn\n\ndef check_out_decor(_ars):\n\tdef check_out_decor_fn(_fn):\n\t\tdef check_out_decor_ars(*_ars2):\n\t\t\tb=_fn(*_ars2)\n\t\t\tif (type(b)!=_ars): \n\t\t\t\tprint (\"check_out_decor not ok:(\")\n\t\t\telse:\n\t\t\t\tprint (\"check_out_decor OK!\")\n\t\t\treturn b\n\t\treturn check_out_decor_ars\n\treturn check_out_decor_fn\n\n@check_in_decor(int,float)\n@check_out_decor(int)\ndef somef(*_ars):\n\ta=0\n\tfor i in range(0,len(_ars)):\n\t\ta=a+_ars[i]\n\treturn a\n\nprint (somef (1,2.5))\nprint (\"\\n\")\nprint (somef (1,2))\n"
    }
   ],
   "metadata": {}
  }
 ]
}