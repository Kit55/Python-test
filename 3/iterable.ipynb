{
 "metadata": {
  "name": "iterable"
 },
 "nbformat": 3,
 "nbformat_minor": 0,
 "worksheets": [
  {
   "cells": [
    {
     "cell_type": "code",
     "collapsed": false,
     "input": "import collections\n\na=(1,2,3)\nb=[1,2,3]\nc=3\n\nprint (isinstance(a, collections.Iterable))\nprint (isinstance(b, collections.Iterable))\nprint (isinstance(c, collections.Iterable))",
     "language": "python",
     "metadata": {},
     "outputs": []
    }
   ],
   "metadata": {}
  }
 ]
}