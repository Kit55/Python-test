{
 "metadata": {
  "name": "3.1"
 },
 "nbformat": 3,
 "nbformat_minor": 0,
 "worksheets": [
  {
   "cells": [
    {
     "cell_type": "raw",
     "metadata": {},
     "source": "\u041d\u0430\u043f\u0438\u0441\u0430\u0442\u044c \u0434\u0435\u043a\u043e\u0440\u0430\u0442\u043e\u0440 \u0434\u043e\u0431\u043e\u0432\u043b\u044f\u044e\u0449\u0438\u0439 \u043a \u0434\u043e\u043a\u0441\u0442\u0440\u0438\u043d\u0433\u0430\u043c \u0444\u0443\u043d\u043a\u0446\u0438\u0438 \u0444\u0440\u0430\u0437\u0443 \"I'm was here!:)\"."
    },
    {
     "cell_type": "code",
     "collapsed": false,
     "input": "\ndef decor(_fn):\n\tdef hid():\n\t\tprint (\"I'm was here!:)\")\n\t\treturn _fn\n\treturn (hid())\n\t\n@decor\ndef somefunc():\n\treturn (\"Hi\")\n\nhelp (somefunc)\n",
     "language": "python",
     "metadata": {},
     "outputs": [
      {
       "output_type": "stream",
       "stream": "stdout",
       "text": "I'm was here!:)\nHelp on function somefunc in module __main__:\n\nsomefunc()\n\n"
      }
     ],
     "prompt_number": 1
    },
    {
     "cell_type": "code",
     "collapsed": false,
     "input": "",
     "language": "python",
     "metadata": {},
     "outputs": []
    }
   ],
   "metadata": {}
  }
 ]
}