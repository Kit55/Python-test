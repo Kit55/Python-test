{
 "metadata": {
  "name": "3.1"
 },
 "nbformat": 3,
 "nbformat_minor": 0,
 "worksheets": [
  {
   "cells": [
    {
     "cell_type": "raw",
     "metadata": {},
     "source": "\u041d\u0430\u043f\u0438\u0441\u0430\u0442\u044c \u0434\u0435\u043a\u043e\u0440\u0430\u0442\u043e\u0440 \u0434\u043e\u0431\u043e\u0432\u043b\u044f\u044e\u0449\u0438\u0439 \u043a \u0434\u043e\u043a\u0441\u0442\u0440\u0438\u043d\u0433\u0430\u043c \u0444\u0443\u043d\u043a\u0446\u0438\u0438 \u0444\u0440\u0430\u0437\u0443 \"I'm was here!:)\".\n\n>>>@vasia\n....def some_funtion():\n....    return 42\n>>>some_function()\n42\n>>>help(some_function)\nHelp on function some_function in module __main__:\n\nf()\n    I'm was here!:)"
    },
    {
     "cell_type": "code",
     "collapsed": false,
     "input": "def some_dec(_fn):\n\tprint (\"I am was here\")\n\tdef some_dec_wrap():\n\n\t\treturn _fn()\n\treturn some_dec_wrap\n\n@some_dec\ndef somef():\n\treturn 42\n\nhelp (somef)",
     "language": "python",
     "metadata": {},
     "outputs": [
      {
       "output_type": "stream",
       "stream": "stdout",
       "text": "I am was here\nHelp on function some_dec_wrap in module __main__:\n\nsome_dec_wrap()\n\n"
      }
     ],
     "prompt_number": 1
    },
    {
     "cell_type": "raw",
     "metadata": {},
     "source": "\u042f \u0434\u043e\u043b\u0433\u043e \u0441\u0438\u0434\u0435\u043b \u043d\u0430\u0434 \u0437\u0430\u0434\u0430\u043d\u0438\u0435\u043c, \u0432\u043e\u0442 \u044d\u0442\u043e \u0441\u0430\u043c\u044b\u0439 \u0430\u0434\u0435\u043a\u0432\u0430\u0442\u043d\u044b\u0439 \u0432\u0430\u0440\u0438\u0430\u043d\u0442, \u043a\u0442\u043e\u0440\u043e\u044b\u0439 \u0443 \u043c\u0435\u043d\u044f \u043f\u043e\u043b\u0443\u0447\u0438\u043b\u0441\u044f, \u0445\u043e\u0442\u044f \u044f \u043f\u043e\u043d\u0438\u043c\u0430\u044e \u0447\u0442\u043e \u0437\u0430\u0434\u0430\u043d\u0438\u0435 \u0432\u044b\u043f\u043e\u043b\u043d\u0435\u043d\u043e \u043d\u0435\u043f\u0440\u0430\u0432\u0438\u043b\u044c\u043d\u043e."
    }
   ],
   "metadata": {}
  }
 ]
}