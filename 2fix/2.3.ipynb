{
 "metadata": {
  "name": "2.3"
 },
 "nbformat": 3,
 "nbformat_minor": 0,
 "worksheets": [
  {
   "cells": [
    {
     "cell_type": "code",
     "collapsed": false,
     "input": "\u041d\u0430\u043f\u0438\u0441\u0430\u0442\u044c \u0444\u0430\u0431\u0440\u0438\u043a\u0443, \u0430\u043d\u0430\u043b\u043e\u0433\u0438\u0447\u043d\u0443\u044e \u043f.2, \u043d\u043e \u0432\u043e\u0437\u0432\u0440\u0430\u0449\u0430\u044e\u0449\u0435\u0439 \u0441\u043f\u0438\u0441\u043e\u043a \u0442\u0430\u043a\u0438\u0445 \u0444\u0443\u043d\u043a\u0446\u0438\u0439\n\n",
     "language": "python",
     "metadata": {},
     "outputs": []
    },
    {
     "cell_type": "code",
     "collapsed": false,
     "input": "def addit(_add):\n    def hidden(_hid):\n        return(_add+_hid)\n    return hidden\n\ndef add_range(_start,_finish):\n    \"\"\"\n    >>> a=add_range(0, 10)\n    >>> print (a[0](1))\n    1\n    >>> print (a[1](1))\n    2\n    >>> print (a[2](1))\n    3\n    >>> print (a[3](1))\n    4\n    >>> print (a[4](1))\n    5\n    >>> print (a[5](1))\n    6\n    >>> print (a[6](1))\n    7\n    >>> print (a[7](1))\n    8\n    >>> print (a[8](1))\n    9\n    >>> print (a[9](1))\n    10\n    \"\"\"\n    for i in range (_start,_finish):\n        return [addit(i) for i in range (_start,_finish)]\n\na=add_range(0, 10)\nprint (a[0](1))\nprint (a[1](1))\nprint (a[2](1))\nprint (a[3](1))\nprint (a[4](1))\nprint (a[5](1))\nprint (a[6](1))\nprint (a[7](1))\nprint (a[8](1))\nprint (a[9](1))\n\n\n\nif __name__ == \"__main__\":\n\timport doctest\n\tdoctest.testmod()\n",
     "language": "python",
     "metadata": {},
     "outputs": [
      {
       "output_type": "stream",
       "stream": "stdout",
       "text": "1\n2\n3\n4\n5\n6\n7\n8\n9\n10\n"
      }
     ],
     "prompt_number": 2
    }
   ],
   "metadata": {}
  }
 ]
}