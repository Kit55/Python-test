{
 "metadata": {
  "name": "2.1"
 },
 "nbformat": 3,
 "nbformat_minor": 0,
 "worksheets": [
  {
   "cells": [
    {
     "cell_type": "raw",
     "metadata": {},
     "source": "\u041d\u0430\u043f\u0438\u0441\u0430\u0442\u044c \u0444\u0443\u043d\u043a\u0446\u0438\u044e, \u043a\u043e\u0442\u043e\u0440\u043e\u0439 \u043c\u043e\u0436\u043d\u043e \u043f\u0435\u0440\u0435\u0434\u0430\u0432\u0430\u0442\u044c \u0430\u0440\u0433\u0443\u043c\u0435\u043d\u0442\u044b \u043b\u0438\u0431\u043e \u0441\u043f\u0438\u0441\u043a\u043e\u043c/\u043a\u043e\u0440\u0442\u0435\u0436\u0435\u043c, \u043b\u0438\u0431\u043e \u043f\u043e \u043e\u0434\u043d\u043e\u043c\u0443. \u0424\u0443\u043d\u043a\u0446\u0438\u044f \u043f\u0440\u043e\u0438\u0437\u0432\u043e\u0434\u0438\u0442 \u0441\u0443\u043c\u043c\u0438\u0440\u043e\u0432\u0430\u043d\u0438\u0435 \u0432\u0441\u0435\u0445 \u0430\u0440\u0433\u0443\u043c\u0435\u043d\u0442\u043e\u0432.\n\nFix \u0420\u0435\u043a\u0443\u0440\u0441\u0438\u0432\u043d\u044b\u0439 \u0432\u044b\u0437\u043e\u0432, \u043f\u0440\u043e\u0432\u0435\u0440\u043a\u0430 \u0447\u0435\u0440\u0435\u0437 \u0438\u0442\u0435\u0440\u0438\u0440\u0443\u0435\u043c\u044b\u0439 \u0442\u0438\u043f."
    },
    {
     "cell_type": "code",
     "collapsed": false,
     "input": "def myfunc (*_forsum):\n    \"\"\"\n    >>> myfunc(1,2,(5,6,7),[10,20,30])\n    81\n    \"\"\"\n    sum=0\n    for i in _forsum:\n        if hasattr(i,__:\n            for g in i:\n                sum+=g\n        else:\n            sum+=i\n    return sum\nprint (myfunc(1,2,(5,6,7),[10,20,30]))\n\nif __name__ == \"__main__\":\n    import doctest\n    doctest.testmod()",
     "language": "python",
     "metadata": {},
     "outputs": [
      {
       "output_type": "stream",
       "stream": "stdout",
       "text": "81\n"
      }
     ],
     "prompt_number": 4
    }
   ],
   "metadata": {}
  }
 ]
}