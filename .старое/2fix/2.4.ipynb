{
 "metadata": {
  "name": "2.4"
 },
 "nbformat": 3,
 "nbformat_minor": 0,
 "worksheets": [
  {
   "cells": [
    {
     "cell_type": "raw",
     "metadata": {},
     "source": ""
    },
    {
     "cell_type": "code",
     "collapsed": false,
     "input": "\ndef addit(_add):\n    def hidden(_hid):\n        return(_add+_hid)\n    return hidden\n\ndef add_range(_start,_finish):\n    for i in range (_start,_finish):\n        globals()['add%d' %i] = addit(i)\n\nadd_range(0, 10)\n\ndef map2(*_ars):\n    \"\"\"\n    >>> map2([add0,add1],[1,2])\n    [[1, 2], [2, 3]]\n    \"\"\"\n    l0=list()\n    l1=list()\n    l3=list()\n    if hasattr(_ars[0],  '__iter__'):\n        l0=_ars[0]\n    else:\n        l0.append(_ars[0])\n    if hasattr(_ars[1],  '__iter__'):\n        l1=_ars[1]\n    else:\n        l1.append(_ars[1])\n    for i in l0:\n        l2=list()\n        for g in l1:\n            l2.append(i(g))\n        l3.append(l2)\n    return (l3)\n\nprint(map2(add0,1))\nprint(map2(add0,[1,2]))\nprint(map2([add0,add1],1))\nprint(map2([add0,add1],[1,2]))\n\nif __name__ == \"__main__\":\n    import doctest\n    doctest.testmod()",
     "language": "python",
     "metadata": {},
     "outputs": [
      {
       "output_type": "stream",
       "stream": "stdout",
       "text": "[[1]]\n[[1, 2]]\n[[1], [2]]\n[[1, 2], [2, 3]]\n"
      }
     ],
     "prompt_number": 1
    }
   ],
   "metadata": {}
  }
 ]
}