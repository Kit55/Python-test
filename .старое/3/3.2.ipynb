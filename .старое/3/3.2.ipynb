{
 "metadata": {
  "name": "3.2"
 },
 "nbformat": 3,
 "nbformat_minor": 0,
 "worksheets": [
  {
   "cells": [
    {
     "cell_type": "raw",
     "metadata": {},
     "source": "\u041d\u0430\u043f\u0438\u0441\u0430\u0442\u044c \u0434\u0435\u043a\u043e\u0440\u0430\u0442\u043e\u0440 \u043a\u043e\u0442\u043e\u0440\u044b\u0439 c\u0447\u0438\u0442\u0430\u0435\u0442 \u0432\u0440\u0435\u043c\u044f \u0432\u044b\u043f\u043e\u043b\u043d\u0435\u043d\u0438\u044f \u0444\u0443\u043d\u043a\u0446\u0438\u0438.\n\n>>>@timer\n...def todoSomething():\n...    return\n>>>todoSomething()\n1e-5"
    },
    {
     "cell_type": "code",
     "collapsed": false,
     "input": "import time\n\ndef timecount_decor(_somef):\n\tdef timecount_decor_wrap(*_arr):\n\t\tst=time.clock()\n\t\tresult=_somef(*_arr)\n\t\ted=time.clock()\n\t\tprint (\"Time=\",ed-st)\n\t\treturn result\n\treturn timecount_decor_wrap\n\n@timecount_decor\ndef countx():\n\tfor i in range (0,100000):\n\t\tfor g in range (0,1000):\n\t\t\ta=i+g\n\treturn (a)\n\ncountx()\n",
     "language": "python",
     "metadata": {},
     "outputs": [
      {
       "output_type": "stream",
       "stream": "stdout",
       "text": "('Time=', 3.00526)\n"
      },
      {
       "metadata": {},
       "output_type": "pyout",
       "prompt_number": 2,
       "text": "100998"
      }
     ],
     "prompt_number": 2
    }
   ],
   "metadata": {}
  }
 ]
}