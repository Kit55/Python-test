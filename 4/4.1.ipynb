{
 "metadata": {
  "name": "4.1"
 },
 "nbformat": 3,
 "nbformat_minor": 0,
 "worksheets": [
  {
   "cells": [
    {
     "cell_type": "raw",
     "metadata": {},
     "source": "\u041d\u0430\u043f\u0438\u0441\u0430\u0442\u044c \u0444\u0443\u043d\u043a\u0446\u0438\u044e-\u0433\u0435\u043d\u0435\u0440\u0430\u0442\u043e\u0440 cycle \u043a\u043e\u0442\u043e\u0440\u0430\u044f \u0431\u044b \u0432\u043e\u0437\u0432\u0440\u0430\u0449\u0430\u043b\u0430 \u0446\u0438\u043a\u043b\u0438\u0447\u0435\u0441\u043a\u0438\u0439 \u0438\u0442\u0435\u0440\u0430\u0442\u043e\u0440.\n>>> i = iter([1, 2, 3])\n>>> c = cycle(i)\n>>> c.next()\n1\n>>> c.next()\n2\n>>> c.next()\n3\n>>> c.next()\n1"
    },
    {
     "cell_type": "code",
     "collapsed": false,
     "input": "import itertools\n\ndef createGenerator(_iter):\n    \"\"\"\n    >>> myit=iter([1,2,3])\n    >>> mygenerator = createGenerator(myit)\n    >>> for i in range (0,6):\n    >>>     mygenerator.__next__()\n    1\n    4\n    9\n    1\n    4\n    9\n    \"\"\"\n    for i in itertools.cycle(_iter):\n        yield i*i\n\nmyit=iter([1,2,3])\nmygenerator = createGenerator(myit)\nfor i in range (0,6):\n    print(next(mygenerator))\n\n\n#if __name__ == \"__main__\":\n#    import doctest\n#   doctest.testmod()",
     "language": "python",
     "metadata": {},
     "outputs": [
      {
       "output_type": "stream",
       "stream": "stdout",
       "text": "1\n4\n9\n1\n4\n9\n"
      }
     ],
     "prompt_number": 2
    },
    {
     "cell_type": "raw",
     "metadata": {},
     "source": "\u0414\u043e\u043a\u0442\u0435\u0441\u0442\u044b \u043d\u0435 \u0440\u0430\u0431\u043e\u0442\u0430\u044e\u0442"
    }
   ],
   "metadata": {}
  }
 ]
}